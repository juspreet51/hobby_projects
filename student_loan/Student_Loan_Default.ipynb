{
 "cells": [
  {
   "cell_type": "markdown",
   "metadata": {},
   "source": [
    "# Student Loan Default Prediction\n",
    "### Most Important Finding: \n",
    "- <b>Confounding Phenomenon</b>: A student is riskier than a non-student, if no information about the student's credit card balance is available. However, that student is less risky, than a non-student, with the same credit card balance\n",
    "- <b>[Reccomendation to credit card companies](#reccomendation)</b>"
   ]
  },
  {
   "cell_type": "code",
   "execution_count": 2,
   "metadata": {},
   "outputs": [],
   "source": [
    "import numpy as np\n",
    "import matplotlib.pyplot as plt\n",
    "import pandas as pd\n",
    "\n",
    "import sklearn.linear_model as skl_lm\n",
    "from sklearn.discriminant_analysis import LinearDiscriminantAnalysis\n",
    "from sklearn.metrics import roc_curve, auc\n",
    "from sklearn.discriminant_analysis import QuadraticDiscriminantAnalysis\n",
    "from sklearn.metrics import confusion_matrix, classification_report, precision_score\n",
    "from sklearn import preprocessing\n",
    "from sklearn import neighbors\n",
    "\n",
    "import statsmodels.api as sm\n",
    "import statsmodels.formula.api as smf"
   ]
  },
  {
   "cell_type": "code",
   "execution_count": 10,
   "metadata": {},
   "outputs": [
    {
     "name": "stderr",
     "output_type": "stream",
     "text": [
      "C:\\Users\\jaspr\\Anaconda3\\lib\\site-packages\\openpyxl\\styles\\stylesheet.py:226: UserWarning: Workbook contains no default style, apply openpyxl's default\n",
      "  warn(\"Workbook contains no default style, apply openpyxl's default\")\n"
     ]
    }
   ],
   "source": [
    "default = pd.read_excel('Data/Default.xlsx')\n",
    "# keeping a copy of raw data\n",
    "df = pd.read_excel('Data/Default.xlsx')"
   ]
  },
  {
   "cell_type": "code",
   "execution_count": 11,
   "metadata": {},
   "outputs": [
    {
     "data": {
      "text/html": [
       "<div>\n",
       "<style scoped>\n",
       "    .dataframe tbody tr th:only-of-type {\n",
       "        vertical-align: middle;\n",
       "    }\n",
       "\n",
       "    .dataframe tbody tr th {\n",
       "        vertical-align: top;\n",
       "    }\n",
       "\n",
       "    .dataframe thead th {\n",
       "        text-align: right;\n",
       "    }\n",
       "</style>\n",
       "<table border=\"1\" class=\"dataframe\">\n",
       "  <thead>\n",
       "    <tr style=\"text-align: right;\">\n",
       "      <th></th>\n",
       "      <th>Unnamed: 0</th>\n",
       "      <th>default</th>\n",
       "      <th>student</th>\n",
       "      <th>balance</th>\n",
       "      <th>income</th>\n",
       "      <th>default2</th>\n",
       "      <th>student2</th>\n",
       "    </tr>\n",
       "  </thead>\n",
       "  <tbody>\n",
       "    <tr>\n",
       "      <th>0</th>\n",
       "      <td>1</td>\n",
       "      <td>No</td>\n",
       "      <td>No</td>\n",
       "      <td>729.526495</td>\n",
       "      <td>44361.625074</td>\n",
       "      <td>0</td>\n",
       "      <td>0</td>\n",
       "    </tr>\n",
       "    <tr>\n",
       "      <th>1</th>\n",
       "      <td>2</td>\n",
       "      <td>No</td>\n",
       "      <td>Yes</td>\n",
       "      <td>817.180407</td>\n",
       "      <td>12106.134700</td>\n",
       "      <td>0</td>\n",
       "      <td>1</td>\n",
       "    </tr>\n",
       "    <tr>\n",
       "      <th>2</th>\n",
       "      <td>3</td>\n",
       "      <td>No</td>\n",
       "      <td>No</td>\n",
       "      <td>1073.549164</td>\n",
       "      <td>31767.138947</td>\n",
       "      <td>0</td>\n",
       "      <td>0</td>\n",
       "    </tr>\n",
       "    <tr>\n",
       "      <th>3</th>\n",
       "      <td>4</td>\n",
       "      <td>No</td>\n",
       "      <td>No</td>\n",
       "      <td>529.250605</td>\n",
       "      <td>35704.493935</td>\n",
       "      <td>0</td>\n",
       "      <td>0</td>\n",
       "    </tr>\n",
       "    <tr>\n",
       "      <th>4</th>\n",
       "      <td>5</td>\n",
       "      <td>No</td>\n",
       "      <td>No</td>\n",
       "      <td>785.655883</td>\n",
       "      <td>38463.495879</td>\n",
       "      <td>0</td>\n",
       "      <td>0</td>\n",
       "    </tr>\n",
       "  </tbody>\n",
       "</table>\n",
       "</div>"
      ],
      "text/plain": [
       "   Unnamed: 0 default student      balance        income  default2  student2\n",
       "0           1      No      No   729.526495  44361.625074         0         0\n",
       "1           2      No     Yes   817.180407  12106.134700         0         1\n",
       "2           3      No      No  1073.549164  31767.138947         0         0\n",
       "3           4      No      No   529.250605  35704.493935         0         0\n",
       "4           5      No      No   785.655883  38463.495879         0         0"
      ]
     },
     "execution_count": 11,
     "metadata": {},
     "output_type": "execute_result"
    }
   ],
   "source": [
    "default['default2'] = default.default.factorize()[0]\n",
    "default['student2'] = default.student.factorize()[0]\n",
    "default.head()"
   ]
  },
  {
   "cell_type": "code",
   "execution_count": 16,
   "metadata": {},
   "outputs": [],
   "source": [
    "import matplotlib as mpl\n",
    "import seaborn as sns\n",
    "\n",
    "\n",
    "# Note: factorize() returns two objects: a label array and an array with the unique values.\n",
    "# We are only interested in the first object. \n",
    "df['default2'] = df.default.factorize()[0]\n",
    "df['student2'] = df.student.factorize()[0]\n"
   ]
  },
  {
   "cell_type": "markdown",
   "metadata": {},
   "source": [
    "## 4.3 Simple Logistic Regression"
   ]
  },
  {
   "cell_type": "markdown",
   "metadata": {},
   "source": [
    "$$Pr(y=1|X)=\\frac{e^{\\beta_0 + \\beta_1X}}{1+e^{\\beta_0 + \\beta_1X}}$$"
   ]
  },
  {
   "cell_type": "markdown",
   "metadata": {},
   "source": [
    "#### Scikit-Learn"
   ]
  },
  {
   "cell_type": "code",
   "execution_count": 6,
   "metadata": {},
   "outputs": [
    {
     "name": "stdout",
     "output_type": "stream",
     "text": [
      "classes: [0 1]\n",
      "coefficient: [[0.00549892]]\n",
      "intercept term: [-10.65133011]\n"
     ]
    }
   ],
   "source": [
    "# Let's use balance as our predictor\n",
    "X_balance = default.balance.values.reshape(-1,1)\n",
    "y = default.default2\n",
    "\n",
    "clf = skl_lm.LogisticRegression(solver='newton-cg')\n",
    "clf.fit(X_balance, y)\n",
    "print('classes:', clf.classes_)\n",
    "print('coefficient:', clf.coef_)\n",
    "print('intercept term:', clf.intercept_)"
   ]
  },
  {
   "cell_type": "markdown",
   "metadata": {},
   "source": [
    "#### Stats-Models"
   ]
  },
  {
   "cell_type": "markdown",
   "metadata": {},
   "source": [
    "Now, with this model, we can estimate the probabilty that someone will default on their credit card, given their card balance. We just need to plug in our coefficients into the sigmoid (logistic) function along with their bank balance. Let's assume their balance is $1000. "
   ]
  },
  {
   "cell_type": "code",
   "execution_count": 40,
   "metadata": {},
   "outputs": [
    {
     "name": "stdout",
     "output_type": "stream",
     "text": [
      "Optimization terminated successfully.\n",
      "         Current function value: 0.079823\n",
      "         Iterations 10\n"
     ]
    },
    {
     "data": {
      "text/html": [
       "<div>\n",
       "<style scoped>\n",
       "    .dataframe tbody tr th:only-of-type {\n",
       "        vertical-align: middle;\n",
       "    }\n",
       "\n",
       "    .dataframe tbody tr th {\n",
       "        vertical-align: top;\n",
       "    }\n",
       "\n",
       "    .dataframe thead th {\n",
       "        text-align: right;\n",
       "    }\n",
       "</style>\n",
       "<table border=\"1\" class=\"dataframe\">\n",
       "  <thead>\n",
       "    <tr style=\"text-align: right;\">\n",
       "      <th></th>\n",
       "      <th>Coef.</th>\n",
       "      <th>Std.Err.</th>\n",
       "      <th>z</th>\n",
       "      <th>P&gt;|z|</th>\n",
       "      <th>[0.025</th>\n",
       "      <th>0.975]</th>\n",
       "    </tr>\n",
       "  </thead>\n",
       "  <tbody>\n",
       "    <tr>\n",
       "      <th>const</th>\n",
       "      <td>-10.651331</td>\n",
       "      <td>0.361169</td>\n",
       "      <td>-29.491287</td>\n",
       "      <td>3.723665e-191</td>\n",
       "      <td>-11.359208</td>\n",
       "      <td>-9.943453</td>\n",
       "    </tr>\n",
       "    <tr>\n",
       "      <th>balance</th>\n",
       "      <td>0.005499</td>\n",
       "      <td>0.000220</td>\n",
       "      <td>24.952404</td>\n",
       "      <td>2.010855e-137</td>\n",
       "      <td>0.005067</td>\n",
       "      <td>0.005931</td>\n",
       "    </tr>\n",
       "  </tbody>\n",
       "</table>\n",
       "</div>"
      ],
      "text/plain": [
       "             Coef.  Std.Err.          z          P>|z|     [0.025    0.975]\n",
       "const   -10.651331  0.361169 -29.491287  3.723665e-191 -11.359208 -9.943453\n",
       "balance   0.005499  0.000220  24.952404  2.010855e-137   0.005067  0.005931"
      ]
     },
     "execution_count": 40,
     "metadata": {},
     "output_type": "execute_result"
    }
   ],
   "source": [
    "X_train = sm.add_constant(df.balance)\n",
    "est = sm.Logit(y.ravel(), X_train).fit()\n",
    "est.summary2().tables[1]"
   ]
  },
  {
   "cell_type": "code",
   "execution_count": 41,
   "metadata": {},
   "outputs": [
    {
     "name": "stdout",
     "output_type": "stream",
     "text": [
      "Optimization terminated successfully.\n",
      "         Current function value: 0.145434\n",
      "         Iterations 7\n"
     ]
    },
    {
     "data": {
      "text/html": [
       "<div>\n",
       "<style scoped>\n",
       "    .dataframe tbody tr th:only-of-type {\n",
       "        vertical-align: middle;\n",
       "    }\n",
       "\n",
       "    .dataframe tbody tr th {\n",
       "        vertical-align: top;\n",
       "    }\n",
       "\n",
       "    .dataframe thead th {\n",
       "        text-align: right;\n",
       "    }\n",
       "</style>\n",
       "<table border=\"1\" class=\"dataframe\">\n",
       "  <thead>\n",
       "    <tr style=\"text-align: right;\">\n",
       "      <th></th>\n",
       "      <th>Coef.</th>\n",
       "      <th>Std.Err.</th>\n",
       "      <th>z</th>\n",
       "      <th>P&gt;|z|</th>\n",
       "      <th>[0.025</th>\n",
       "      <th>0.975]</th>\n",
       "    </tr>\n",
       "  </thead>\n",
       "  <tbody>\n",
       "    <tr>\n",
       "      <th>const</th>\n",
       "      <td>-3.504128</td>\n",
       "      <td>0.070713</td>\n",
       "      <td>-49.554094</td>\n",
       "      <td>0.000000</td>\n",
       "      <td>-3.642723</td>\n",
       "      <td>-3.365532</td>\n",
       "    </tr>\n",
       "    <tr>\n",
       "      <th>student2</th>\n",
       "      <td>0.404887</td>\n",
       "      <td>0.115019</td>\n",
       "      <td>3.520177</td>\n",
       "      <td>0.000431</td>\n",
       "      <td>0.179454</td>\n",
       "      <td>0.630320</td>\n",
       "    </tr>\n",
       "  </tbody>\n",
       "</table>\n",
       "</div>"
      ],
      "text/plain": [
       "             Coef.  Std.Err.          z     P>|z|    [0.025    0.975]\n",
       "const    -3.504128  0.070713 -49.554094  0.000000 -3.642723 -3.365532\n",
       "student2  0.404887  0.115019   3.520177  0.000431  0.179454  0.630320"
      ]
     },
     "execution_count": 41,
     "metadata": {},
     "output_type": "execute_result"
    }
   ],
   "source": [
    "X_train = sm.add_constant(df.student2)\n",
    "y = df.default2\n",
    "\n",
    "est = sm.Logit(y, X_train).fit()\n",
    "est.summary2().tables[1]"
   ]
  },
  {
   "cell_type": "markdown",
   "metadata": {},
   "source": [
    "___\n",
    "- +ve coefficient value for student, along with statisticallly significant p-value, indicates that for a fixed value of balance and income, a students are more likely to to default, than a non-student\n",
    "___"
   ]
  },
  {
   "cell_type": "code",
   "execution_count": 161,
   "metadata": {},
   "outputs": [
    {
     "data": {
      "text/plain": [
       "0.0057521450680737569"
      ]
     },
     "execution_count": 161,
     "metadata": {},
     "output_type": "execute_result"
    }
   ],
   "source": [
    "# est.params[0] is the intercept term derived from our model above, -10.6513\n",
    "# est.params[1] is the slope term derived from our model above, 0.0055\n",
    "prob_default = (np.exp(est.params[0]+est.params[1]*1000)) / (1 + (np.exp(est.params[0]+est.params[1]*1000)))\n",
    "prob_default"
   ]
  },
  {
   "cell_type": "markdown",
   "metadata": {},
   "source": [
    "We can interpret this as a .6% chance that they will default on their credit card. However, if their card balance is $2000, the estimated probability that they'll default rises to 59% as shown below."
   ]
  },
  {
   "cell_type": "code",
   "execution_count": 162,
   "metadata": {},
   "outputs": [
    {
     "data": {
      "text/plain": [
       "0.58576936983133143"
      ]
     },
     "execution_count": 162,
     "metadata": {},
     "output_type": "execute_result"
    }
   ],
   "source": [
    "prob_default = (np.exp(est.params[0]+est.params[1]*2000)) / (1 + (np.exp(est.params[0]+est.params[1]*2000)))\n",
    "prob_default"
   ]
  },
  {
   "cell_type": "code",
   "execution_count": 163,
   "metadata": {},
   "outputs": [
    {
     "data": {
      "text/plain": [
       "0.50001787048806834"
      ]
     },
     "execution_count": 163,
     "metadata": {},
     "output_type": "execute_result"
    }
   ],
   "source": [
    "prob_default = (np.exp(est.params[0]+est.params[1]*1937)) / (1 + (np.exp(est.params[0]+est.params[1]*1937)))\n",
    "prob_default"
   ]
  },
  {
   "cell_type": "markdown",
   "metadata": {},
   "source": [
    "---"
   ]
  },
  {
   "cell_type": "code",
   "execution_count": 164,
   "metadata": {},
   "outputs": [
    {
     "name": "stdout",
     "output_type": "stream",
     "text": [
      "Optimization terminated successfully.\n",
      "         Current function value: 0.145434\n",
      "         Iterations 7\n"
     ]
    },
    {
     "data": {
      "text/html": [
       "<table class=\"simpletable\">\n",
       "<tr>\n",
       "      <td></td>        <th>coef</th>     <th>std err</th>      <th>z</th>      <th>P>|z|</th>  <th>[0.025</th>    <th>0.975]</th>  \n",
       "</tr>\n",
       "<tr>\n",
       "  <th>const</th>    <td>   -3.5041</td> <td>    0.071</td> <td>  -49.554</td> <td> 0.000</td> <td>   -3.643</td> <td>   -3.366</td>\n",
       "</tr>\n",
       "<tr>\n",
       "  <th>student2</th> <td>    0.4049</td> <td>    0.115</td> <td>    3.520</td> <td> 0.000</td> <td>    0.179</td> <td>    0.630</td>\n",
       "</tr>\n",
       "</table>"
      ],
      "text/plain": [
       "<class 'statsmodels.iolib.table.SimpleTable'>"
      ]
     },
     "execution_count": 164,
     "metadata": {},
     "output_type": "execute_result"
    }
   ],
   "source": [
    "X_student = sm.add_constant(default.student2)\n",
    "est = smf.Logit(y.ravel(), X_student).fit()\n",
    "est.summary().tables[1]"
   ]
  },
  {
   "cell_type": "code",
   "execution_count": 165,
   "metadata": {},
   "outputs": [
    {
     "name": "stdout",
     "output_type": "stream",
     "text": [
      "0.0431385869565\n",
      "0.0291950113379\n"
     ]
    }
   ],
   "source": [
    "prob_default_student = (np.exp(est.params[0]+est.params[1]*1)) / (1 + (np.exp(est.params[0]+est.params[1]*1)))\n",
    "prob_default_not_student = (np.exp(est.params[0]+est.params[1]*0)) / (1 + (np.exp(est.params[0]+est.params[1]*0)))\n",
    "print(prob_default_student)\n",
    "print(prob_default_not_student)"
   ]
  },
  {
   "cell_type": "markdown",
   "metadata": {},
   "source": [
    "As shown by the p-values above, whether or not the card-holder is a student is a significant predictor of whether or not they'll default as well. In fact, if they're a student we estimate that their chances of defaulting double!"
   ]
  },
  {
   "cell_type": "markdown",
   "metadata": {},
   "source": [
    "### Multivariate Logistic Regression"
   ]
  },
  {
   "cell_type": "markdown",
   "metadata": {},
   "source": [
    "$$Pr(y=1|X)=\\frac{e^{\\beta_0 + \\beta_1X_1+\\dots+\\beta_pX_p}}{1+e^{\\beta_0 + \\beta_1X_1+\\dots+\\beta_pX_p}}$$"
   ]
  },
  {
   "cell_type": "markdown",
   "metadata": {},
   "source": [
    "#### Scikit-Learn"
   ]
  },
  {
   "cell_type": "code",
   "execution_count": 36,
   "metadata": {},
   "outputs": [
    {
     "name": "stdout",
     "output_type": "stream",
     "text": [
      "classes: [0 1]\n",
      "coefficient: [[ 4.08201022e-03 -1.33893466e-04 -3.89009045e+00]]\n",
      "intercept term: [-2.9508496]\n"
     ]
    }
   ],
   "source": [
    "X = default[['balance', 'income', 'student2']]\n",
    "y = default.default2\n",
    "\n",
    "# Notice that these coefficients are different than those output by Statsmodel below. When I use the 'newton-cg' solver,\n",
    "# I achieve the same coefficients, but am warned that the algorithm does not converge. Not sure how to interpret this.\n",
    "clf = skl_lm.LogisticRegression()\n",
    "clf.fit(X, y)\n",
    "print('classes:', clf.classes_)\n",
    "print('coefficient:', clf.coef_)\n",
    "print('intercept term:', clf.intercept_)"
   ]
  },
  {
   "cell_type": "code",
   "execution_count": 37,
   "metadata": {},
   "outputs": [],
   "source": [
    "import statsmodels.api as sm"
   ]
  },
  {
   "cell_type": "code",
   "execution_count": 38,
   "metadata": {},
   "outputs": [
    {
     "name": "stdout",
     "output_type": "stream",
     "text": [
      "Optimization terminated successfully.\n",
      "         Current function value: 0.078577\n",
      "         Iterations 10\n"
     ]
    },
    {
     "data": {
      "text/html": [
       "<div>\n",
       "<style scoped>\n",
       "    .dataframe tbody tr th:only-of-type {\n",
       "        vertical-align: middle;\n",
       "    }\n",
       "\n",
       "    .dataframe tbody tr th {\n",
       "        vertical-align: top;\n",
       "    }\n",
       "\n",
       "    .dataframe thead th {\n",
       "        text-align: right;\n",
       "    }\n",
       "</style>\n",
       "<table border=\"1\" class=\"dataframe\">\n",
       "  <thead>\n",
       "    <tr style=\"text-align: right;\">\n",
       "      <th></th>\n",
       "      <th>Coef.</th>\n",
       "      <th>Std.Err.</th>\n",
       "      <th>z</th>\n",
       "      <th>P&gt;|z|</th>\n",
       "      <th>[0.025</th>\n",
       "      <th>0.975]</th>\n",
       "    </tr>\n",
       "  </thead>\n",
       "  <tbody>\n",
       "    <tr>\n",
       "      <th>const</th>\n",
       "      <td>-10.869045</td>\n",
       "      <td>0.492273</td>\n",
       "      <td>-22.079320</td>\n",
       "      <td>4.995499e-108</td>\n",
       "      <td>-11.833882</td>\n",
       "      <td>-9.904209</td>\n",
       "    </tr>\n",
       "    <tr>\n",
       "      <th>balance</th>\n",
       "      <td>0.005737</td>\n",
       "      <td>0.000232</td>\n",
       "      <td>24.736506</td>\n",
       "      <td>4.331521e-135</td>\n",
       "      <td>0.005282</td>\n",
       "      <td>0.006191</td>\n",
       "    </tr>\n",
       "    <tr>\n",
       "      <th>income</th>\n",
       "      <td>0.000003</td>\n",
       "      <td>0.000008</td>\n",
       "      <td>0.369808</td>\n",
       "      <td>7.115254e-01</td>\n",
       "      <td>-0.000013</td>\n",
       "      <td>0.000019</td>\n",
       "    </tr>\n",
       "    <tr>\n",
       "      <th>student2</th>\n",
       "      <td>-0.646776</td>\n",
       "      <td>0.236257</td>\n",
       "      <td>-2.737595</td>\n",
       "      <td>6.189022e-03</td>\n",
       "      <td>-1.109831</td>\n",
       "      <td>-0.183721</td>\n",
       "    </tr>\n",
       "  </tbody>\n",
       "</table>\n",
       "</div>"
      ],
      "text/plain": [
       "              Coef.  Std.Err.          z          P>|z|     [0.025    0.975]\n",
       "const    -10.869045  0.492273 -22.079320  4.995499e-108 -11.833882 -9.904209\n",
       "balance    0.005737  0.000232  24.736506  4.331521e-135   0.005282  0.006191\n",
       "income     0.000003  0.000008   0.369808   7.115254e-01  -0.000013  0.000019\n",
       "student2  -0.646776  0.236257  -2.737595   6.189022e-03  -1.109831 -0.183721"
      ]
     },
     "execution_count": 38,
     "metadata": {},
     "output_type": "execute_result"
    }
   ],
   "source": [
    "X_train = sm.add_constant(df[['balance', 'income', 'student2']])\n",
    "# est = smf.Logit(y, X_train).fit()\n",
    "\n",
    "\n",
    "\n",
    "# building the model and fitting the data\n",
    "est = sm.Logit(y, X_train).fit()\n",
    "est.summary2().tables[1]"
   ]
  },
  {
   "cell_type": "markdown",
   "metadata": {},
   "source": [
    "___\n",
    "- -ve coefficient value fir student in the multiple log reg indicates, that for a fixed value of balance and income, a student is less likely to to default, than a non-student\n",
    "___"
   ]
  },
  {
   "cell_type": "markdown",
   "metadata": {},
   "source": [
    "## Confounding"
   ]
  },
  {
   "cell_type": "code",
   "execution_count": 19,
   "metadata": {},
   "outputs": [
    {
     "name": "stderr",
     "output_type": "stream",
     "text": [
      "C:\\Users\\jaspr\\Anaconda3\\lib\\site-packages\\openpyxl\\styles\\stylesheet.py:226: UserWarning: Workbook contains no default style, apply openpyxl's default\n",
      "  warn(\"Workbook contains no default style, apply openpyxl's default\")\n"
     ]
    },
    {
     "data": {
      "text/html": [
       "<div>\n",
       "<style scoped>\n",
       "    .dataframe tbody tr th:only-of-type {\n",
       "        vertical-align: middle;\n",
       "    }\n",
       "\n",
       "    .dataframe tbody tr th {\n",
       "        vertical-align: top;\n",
       "    }\n",
       "\n",
       "    .dataframe thead th {\n",
       "        text-align: right;\n",
       "    }\n",
       "</style>\n",
       "<table border=\"1\" class=\"dataframe\">\n",
       "  <thead>\n",
       "    <tr style=\"text-align: right;\">\n",
       "      <th></th>\n",
       "      <th>Unnamed: 0</th>\n",
       "      <th>default</th>\n",
       "      <th>student</th>\n",
       "      <th>balance</th>\n",
       "      <th>income</th>\n",
       "      <th>default2</th>\n",
       "      <th>student2</th>\n",
       "    </tr>\n",
       "  </thead>\n",
       "  <tbody>\n",
       "    <tr>\n",
       "      <th>0</th>\n",
       "      <td>1</td>\n",
       "      <td>No</td>\n",
       "      <td>No</td>\n",
       "      <td>729.526495</td>\n",
       "      <td>44361.625074</td>\n",
       "      <td>0</td>\n",
       "      <td>0</td>\n",
       "    </tr>\n",
       "    <tr>\n",
       "      <th>1</th>\n",
       "      <td>2</td>\n",
       "      <td>No</td>\n",
       "      <td>Yes</td>\n",
       "      <td>817.180407</td>\n",
       "      <td>12106.134700</td>\n",
       "      <td>0</td>\n",
       "      <td>1</td>\n",
       "    </tr>\n",
       "    <tr>\n",
       "      <th>2</th>\n",
       "      <td>3</td>\n",
       "      <td>No</td>\n",
       "      <td>No</td>\n",
       "      <td>1073.549164</td>\n",
       "      <td>31767.138947</td>\n",
       "      <td>0</td>\n",
       "      <td>0</td>\n",
       "    </tr>\n",
       "  </tbody>\n",
       "</table>\n",
       "</div>"
      ],
      "text/plain": [
       "   Unnamed: 0 default student      balance        income  default2  student2\n",
       "0           1      No      No   729.526495  44361.625074         0         0\n",
       "1           2      No     Yes   817.180407  12106.134700         0         1\n",
       "2           3      No      No  1073.549164  31767.138947         0         0"
      ]
     },
     "execution_count": 19,
     "metadata": {},
     "output_type": "execute_result"
    }
   ],
   "source": [
    "# In R, I exported the dataset from package 'ISLR' to an Excel file\n",
    "df = pd.read_excel('Data/Default.xlsx')\n",
    "\n",
    "# Note: factorize() returns two objects: a label array and an array with the unique values.\n",
    "# We are only interested in the first object. \n",
    "df['default2'] = df.default.factorize()[0]\n",
    "df['student2'] = df.student.factorize()[0]\n",
    "df.head(3)"
   ]
  },
  {
   "cell_type": "code",
   "execution_count": 20,
   "metadata": {},
   "outputs": [],
   "source": [
    "# balance and default vectors for students\n",
    "X_train = df[df.student == 'Yes'].balance.values.reshape(df[df.student == 'Yes'].balance.size,1) \n",
    "y = df[df.student == 'Yes'].default2\n",
    "\n",
    "# balance and default vectors for non-students\n",
    "X_train2 = df[df.student == 'No'].balance.values.reshape(df[df.student == 'No'].balance.size,1) \n",
    "y2 = df[df.student == 'No'].default2\n",
    "\n",
    "# Vector with balance values for plotting\n",
    "X_test = np.arange(df.balance.min(), df.balance.max()).reshape(-1,1)\n",
    "\n",
    "clf = skl_lm.LogisticRegression(solver='newton-cg')\n",
    "clf2 = skl_lm.LogisticRegression(solver='newton-cg')\n",
    "\n",
    "clf.fit(X_train,y)\n",
    "clf2.fit(X_train2,y2)\n",
    "\n",
    "prob = clf.predict_proba(X_test)\n",
    "prob2 = clf2.predict_proba(X_test)"
   ]
  },
  {
   "cell_type": "code",
   "execution_count": 21,
   "metadata": {},
   "outputs": [
    {
     "data": {
      "text/html": [
       "<div>\n",
       "<style scoped>\n",
       "    .dataframe tbody tr th:only-of-type {\n",
       "        vertical-align: middle;\n",
       "    }\n",
       "\n",
       "    .dataframe tbody tr th {\n",
       "        vertical-align: top;\n",
       "    }\n",
       "\n",
       "    .dataframe thead th {\n",
       "        text-align: right;\n",
       "    }\n",
       "</style>\n",
       "<table border=\"1\" class=\"dataframe\">\n",
       "  <thead>\n",
       "    <tr style=\"text-align: right;\">\n",
       "      <th>default</th>\n",
       "      <th>No</th>\n",
       "      <th>Yes</th>\n",
       "    </tr>\n",
       "    <tr>\n",
       "      <th>student</th>\n",
       "      <th></th>\n",
       "      <th></th>\n",
       "    </tr>\n",
       "  </thead>\n",
       "  <tbody>\n",
       "    <tr>\n",
       "      <th>No</th>\n",
       "      <td>6850</td>\n",
       "      <td>206</td>\n",
       "    </tr>\n",
       "    <tr>\n",
       "      <th>Yes</th>\n",
       "      <td>2817</td>\n",
       "      <td>127</td>\n",
       "    </tr>\n",
       "  </tbody>\n",
       "</table>\n",
       "</div>"
      ],
      "text/plain": [
       "default    No  Yes\n",
       "student           \n",
       "No       6850  206\n",
       "Yes      2817  127"
      ]
     },
     "execution_count": 21,
     "metadata": {},
     "output_type": "execute_result"
    }
   ],
   "source": [
    "df.groupby(['student','default']).size().unstack('default')"
   ]
  },
  {
   "cell_type": "code",
   "execution_count": 22,
   "metadata": {},
   "outputs": [
    {
     "name": "stderr",
     "output_type": "stream",
     "text": [
      "C:\\Users\\jaspr\\Anaconda3\\lib\\site-packages\\seaborn\\_decorators.py:43: FutureWarning: Pass the following variables as keyword args: x, y. From version 0.12, the only valid positional argument will be `data`, and passing other arguments without an explicit keyword will result in an error or misinterpretation.\n",
      "  FutureWarning\n"
     ]
    },
    {
     "data": {
      "image/png": "[encoded data removed]",
      "text/plain": [
       "<Figure size 864x360 with 2 Axes>"
      ]
     },
     "metadata": {
      "needs_background": "light"
     },
     "output_type": "display_data"
    }
   ],
   "source": [
    "# creating plot\n",
    "fig, (ax1, ax2) = plt.subplots(1,2, figsize=(12,5))\n",
    "\n",
    "# Left plot\n",
    "ax1.plot(X_test, pd.DataFrame(prob)[1], color='orange', label='Student')\n",
    "ax1.plot(X_test, pd.DataFrame(prob2)[1], color='lightblue', label='Non-student')\n",
    "ax1.hlines(127/2817, colors='orange', label='Overall Student',\n",
    "           xmin=ax1.xaxis.get_data_interval()[0],\n",
    "           xmax=ax1.xaxis.get_data_interval()[1], linestyles='dashed')\n",
    "ax1.hlines(206/6850, colors='lightblue', label='Overall Non-Student',\n",
    "           xmin=ax1.xaxis.get_data_interval()[0],\n",
    "           xmax=ax1.xaxis.get_data_interval()[1], linestyles='dashed')\n",
    "ax1.set_ylabel('Default Rate')\n",
    "ax1.set_xlabel('Credit Card Balance')\n",
    "ax1.set_yticks([0, 0.2, 0.4, 0.6, 0.8, 1.])\n",
    "ax1.set_xlim(450,2500)\n",
    "ax1.legend(loc=2)\n",
    "\n",
    "# Right plot\n",
    "sns.boxplot('student', 'balance', data=df, orient='v', ax=ax2,  palette=c_palette);"
   ]
  },
  {
   "cell_type": "markdown",
   "metadata": {},
   "source": [
    "___\n",
    "### Mismatch of results between SLR & MLR?\n",
    "- How is it possible for student status to be associated with an increase in probability of default in SLR model, and a decrease in probability of default in MLR model?"
   ]
  },
  {
   "cell_type": "markdown",
   "metadata": {},
   "source": [
    "- The right-hand panel of above figure provides an explanation for this discrepancy\n",
    "- The variables student and balance are correlated. Students tend to hold higher levels of debt, which is in turn associated with higher probability of default\n",
    "- In other words, students are more likely to have large credit card balances, which, as we know from the left-hand panel of Figure, tend to be associated with high default rates. \n",
    "- Thus, even though an individual student with a given credit card balance will tend to have a lower probability of default than a non-student with the same credit card balance, the fact that students on the whole tend to have higher credit card balances means that overall, students tend to default at a higher rate than non-students\n",
    "___"
   ]
  },
  {
   "cell_type": "markdown",
   "metadata": {},
   "source": [
    "<a id='reccomendation'></a>\n",
    "### Reccomendation to credit card companies\n",
    "This is an important distinction for a credit card company that is trying to determine to whom they should offer credit"
   ]
  },
  {
   "cell_type": "markdown",
   "metadata": {},
   "source": [
    "---"
   ]
  },
  {
   "cell_type": "markdown",
   "metadata": {},
   "source": [
    "#### Quick Comparison of Logistic Regression and Linear Discriminant Analysis"
   ]
  },
  {
   "cell_type": "markdown",
   "metadata": {},
   "source": [
    "It can be show mathematically that in a two class classification problem, Logistic Regression and LDA take the same form. Where they differ is in how the parameters are estimated. \n",
    "* Logistic REgression uses the conditional likelihood based on $Pr(Y|X)$ (known as discriminative learning)\n",
    "* LDA uses the full likelihood based on $PR(X|Y)$ (known as generative learning)"
   ]
  },
  {
   "cell_type": "markdown",
   "metadata": {},
   "source": [
    "---"
   ]
  }
 ],
 "metadata": {
  "kernelspec": {
   "display_name": "Python 3 (ipykernel)",
   "language": "python",
   "name": "python3"
  },
  "language_info": {
   "codemirror_mode": {
    "name": "ipython",
    "version": 3
   },
   "file_extension": ".py",
   "mimetype": "text/x-python",
   "name": "python",
   "nbconvert_exporter": "python",
   "pygments_lexer": "ipython3",
   "version": "3.7.4"
  }
 },
 "nbformat": 4,
 "nbformat_minor": 4
}
